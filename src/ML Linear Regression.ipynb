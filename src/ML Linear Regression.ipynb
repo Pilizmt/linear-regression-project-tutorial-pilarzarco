{
 "cells": [
  {
   "cell_type": "markdown",
   "metadata": {},
   "source": [
    "# ML Linear Regression"
   ]
  },
  {
   "cell_type": "code",
   "execution_count": 26,
   "metadata": {},
   "outputs": [
    {
     "data": {
      "text/html": [
       "<div>\n",
       "<style scoped>\n",
       "    .dataframe tbody tr th:only-of-type {\n",
       "        vertical-align: middle;\n",
       "    }\n",
       "\n",
       "    .dataframe tbody tr th {\n",
       "        vertical-align: top;\n",
       "    }\n",
       "\n",
       "    .dataframe thead th {\n",
       "        text-align: right;\n",
       "    }\n",
       "</style>\n",
       "<table border=\"1\" class=\"dataframe\">\n",
       "  <thead>\n",
       "    <tr style=\"text-align: right;\">\n",
       "      <th></th>\n",
       "      <th>age</th>\n",
       "      <th>bmi</th>\n",
       "      <th>children</th>\n",
       "      <th>smoker</th>\n",
       "      <th>charges</th>\n",
       "    </tr>\n",
       "  </thead>\n",
       "  <tbody>\n",
       "    <tr>\n",
       "      <th>0</th>\n",
       "      <td>0.108696</td>\n",
       "      <td>0.230024</td>\n",
       "      <td>0.0</td>\n",
       "      <td>1.0</td>\n",
       "      <td>0.020339</td>\n",
       "    </tr>\n",
       "    <tr>\n",
       "      <th>1</th>\n",
       "      <td>0.065217</td>\n",
       "      <td>0.263250</td>\n",
       "      <td>0.4</td>\n",
       "      <td>1.0</td>\n",
       "      <td>0.034446</td>\n",
       "    </tr>\n",
       "    <tr>\n",
       "      <th>2</th>\n",
       "      <td>0.739130</td>\n",
       "      <td>0.580172</td>\n",
       "      <td>0.4</td>\n",
       "      <td>1.0</td>\n",
       "      <td>0.516374</td>\n",
       "    </tr>\n",
       "    <tr>\n",
       "      <th>3</th>\n",
       "      <td>0.978261</td>\n",
       "      <td>0.686306</td>\n",
       "      <td>0.0</td>\n",
       "      <td>1.0</td>\n",
       "      <td>0.196070</td>\n",
       "    </tr>\n",
       "    <tr>\n",
       "      <th>4</th>\n",
       "      <td>0.630435</td>\n",
       "      <td>0.286252</td>\n",
       "      <td>0.4</td>\n",
       "      <td>1.0</td>\n",
       "      <td>0.137177</td>\n",
       "    </tr>\n",
       "  </tbody>\n",
       "</table>\n",
       "</div>"
      ],
      "text/plain": [
       "        age       bmi  children  smoker   charges\n",
       "0  0.108696  0.230024       0.0     1.0  0.020339\n",
       "1  0.065217  0.263250       0.4     1.0  0.034446\n",
       "2  0.739130  0.580172       0.4     1.0  0.516374\n",
       "3  0.978261  0.686306       0.0     1.0  0.196070\n",
       "4  0.630435  0.286252       0.4     1.0  0.137177"
      ]
     },
     "execution_count": 26,
     "metadata": {},
     "output_type": "execute_result"
    }
   ],
   "source": [
    "import pandas as pd\n",
    "\n",
    "# Load Train and Test with scaling\n",
    "train_data = pd.read_csv(\"/workspaces/linear-regression-project-tutorial-pilarzarco/models/model_scal_train.csv\")\n",
    "test_data = pd.read_csv(\"/workspaces/linear-regression-project-tutorial-pilarzarco/models/model_scal_test.csv\")\n",
    "\n",
    "train_data.head()"
   ]
  },
  {
   "cell_type": "code",
   "execution_count": 27,
   "metadata": {},
   "outputs": [
    {
     "name": "stdout",
     "output_type": "stream",
     "text": [
      "(1069, 5)\n",
      "(268, 5)\n"
     ]
    }
   ],
   "source": [
    "# Check dimensions of train and test\n",
    "print(train_data.shape)\n",
    "print(test_data.shape)"
   ]
  },
  {
   "cell_type": "code",
   "execution_count": 28,
   "metadata": {},
   "outputs": [],
   "source": [
    "X_train = train_data.drop([\"charges\"], axis = 1) # Eliminate the \"charges\" column to obtain the training characteristics.\n",
    "y_train = train_data[\"charges\"] # Obtain the \"charges\" column as the target training variable.\n",
    "\n",
    "X_test = test_data.drop([\"charges\"], axis = 1) # Eliminate the \"charges\" column to obtain the test characteristics.\n",
    "y_test = test_data[\"charges\"] # Obtain the \"charges\" column as the target test variable."
   ]
  },
  {
   "cell_type": "code",
   "execution_count": 29,
   "metadata": {},
   "outputs": [
    {
     "data": {
      "text/html": [
       "<style>#sk-container-id-3 {color: black;}#sk-container-id-3 pre{padding: 0;}#sk-container-id-3 div.sk-toggleable {background-color: white;}#sk-container-id-3 label.sk-toggleable__label {cursor: pointer;display: block;width: 100%;margin-bottom: 0;padding: 0.3em;box-sizing: border-box;text-align: center;}#sk-container-id-3 label.sk-toggleable__label-arrow:before {content: \"▸\";float: left;margin-right: 0.25em;color: #696969;}#sk-container-id-3 label.sk-toggleable__label-arrow:hover:before {color: black;}#sk-container-id-3 div.sk-estimator:hover label.sk-toggleable__label-arrow:before {color: black;}#sk-container-id-3 div.sk-toggleable__content {max-height: 0;max-width: 0;overflow: hidden;text-align: left;background-color: #f0f8ff;}#sk-container-id-3 div.sk-toggleable__content pre {margin: 0.2em;color: black;border-radius: 0.25em;background-color: #f0f8ff;}#sk-container-id-3 input.sk-toggleable__control:checked~div.sk-toggleable__content {max-height: 200px;max-width: 100%;overflow: auto;}#sk-container-id-3 input.sk-toggleable__control:checked~label.sk-toggleable__label-arrow:before {content: \"▾\";}#sk-container-id-3 div.sk-estimator input.sk-toggleable__control:checked~label.sk-toggleable__label {background-color: #d4ebff;}#sk-container-id-3 div.sk-label input.sk-toggleable__control:checked~label.sk-toggleable__label {background-color: #d4ebff;}#sk-container-id-3 input.sk-hidden--visually {border: 0;clip: rect(1px 1px 1px 1px);clip: rect(1px, 1px, 1px, 1px);height: 1px;margin: -1px;overflow: hidden;padding: 0;position: absolute;width: 1px;}#sk-container-id-3 div.sk-estimator {font-family: monospace;background-color: #f0f8ff;border: 1px dotted black;border-radius: 0.25em;box-sizing: border-box;margin-bottom: 0.5em;}#sk-container-id-3 div.sk-estimator:hover {background-color: #d4ebff;}#sk-container-id-3 div.sk-parallel-item::after {content: \"\";width: 100%;border-bottom: 1px solid gray;flex-grow: 1;}#sk-container-id-3 div.sk-label:hover label.sk-toggleable__label {background-color: #d4ebff;}#sk-container-id-3 div.sk-serial::before {content: \"\";position: absolute;border-left: 1px solid gray;box-sizing: border-box;top: 0;bottom: 0;left: 50%;z-index: 0;}#sk-container-id-3 div.sk-serial {display: flex;flex-direction: column;align-items: center;background-color: white;padding-right: 0.2em;padding-left: 0.2em;position: relative;}#sk-container-id-3 div.sk-item {position: relative;z-index: 1;}#sk-container-id-3 div.sk-parallel {display: flex;align-items: stretch;justify-content: center;background-color: white;position: relative;}#sk-container-id-3 div.sk-item::before, #sk-container-id-3 div.sk-parallel-item::before {content: \"\";position: absolute;border-left: 1px solid gray;box-sizing: border-box;top: 0;bottom: 0;left: 50%;z-index: -1;}#sk-container-id-3 div.sk-parallel-item {display: flex;flex-direction: column;z-index: 1;position: relative;background-color: white;}#sk-container-id-3 div.sk-parallel-item:first-child::after {align-self: flex-end;width: 50%;}#sk-container-id-3 div.sk-parallel-item:last-child::after {align-self: flex-start;width: 50%;}#sk-container-id-3 div.sk-parallel-item:only-child::after {width: 0;}#sk-container-id-3 div.sk-dashed-wrapped {border: 1px dashed gray;margin: 0 0.4em 0.5em 0.4em;box-sizing: border-box;padding-bottom: 0.4em;background-color: white;}#sk-container-id-3 div.sk-label label {font-family: monospace;font-weight: bold;display: inline-block;line-height: 1.2em;}#sk-container-id-3 div.sk-label-container {text-align: center;}#sk-container-id-3 div.sk-container {/* jupyter's `normalize.less` sets `[hidden] { display: none; }` but bootstrap.min.css set `[hidden] { display: none !important; }` so we also need the `!important` here to be able to override the default hidden behavior on the sphinx rendered scikit-learn.org. See: https://github.com/scikit-learn/scikit-learn/issues/21755 */display: inline-block !important;position: relative;}#sk-container-id-3 div.sk-text-repr-fallback {display: none;}</style><div id=\"sk-container-id-3\" class=\"sk-top-container\"><div class=\"sk-text-repr-fallback\"><pre>LinearRegression()</pre><b>In a Jupyter environment, please rerun this cell to show the HTML representation or trust the notebook. <br />On GitHub, the HTML representation is unable to render, please try loading this page with nbviewer.org.</b></div><div class=\"sk-container\" hidden><div class=\"sk-item\"><div class=\"sk-estimator sk-toggleable\"><input class=\"sk-toggleable__control sk-hidden--visually\" id=\"sk-estimator-id-3\" type=\"checkbox\" checked><label for=\"sk-estimator-id-3\" class=\"sk-toggleable__label sk-toggleable__label-arrow\">LinearRegression</label><div class=\"sk-toggleable__content\"><pre>LinearRegression()</pre></div></div></div></div></div>"
      ],
      "text/plain": [
       "LinearRegression()"
      ]
     },
     "execution_count": 29,
     "metadata": {},
     "output_type": "execute_result"
    }
   ],
   "source": [
    "# Create and adjust the model\n",
    "from sklearn.linear_model import LinearRegression\n",
    "\n",
    "model = LinearRegression()\n",
    "model.fit(X_train, y_train)"
   ]
  },
  {
   "cell_type": "code",
   "execution_count": 30,
   "metadata": {},
   "outputs": [
    {
     "name": "stdout",
     "output_type": "stream",
     "text": [
      "Intercep (a): 0.3195827183308946\n",
      "Coefficients (b1, b2): [ 0.1829699   0.18111814  0.04293572 -0.36780589]\n"
     ]
    }
   ],
   "source": [
    "# How the model fits your training data\n",
    "print(f\"Intercep (a): {model.intercept_}\")\n",
    "print(f\"Coefficients (b1, b2): {model.coef_}\")"
   ]
  },
  {
   "cell_type": "code",
   "execution_count": 31,
   "metadata": {},
   "outputs": [
    {
     "data": {
      "text/plain": [
       "array([ 0.10702315,  0.07685187,  0.2083241 ,  0.48685684,  0.12995459,\n",
       "        0.19726353,  0.45755859,  0.00832554,  0.1556988 ,  0.16287349,\n",
       "        0.14781084,  0.51037008,  0.4699569 ,  0.25944432,  0.14442757,\n",
       "        0.13842465,  0.05134994,  0.49351746,  0.03848664,  0.0705325 ,\n",
       "        0.04276279,  0.45855586,  0.22245537,  0.47182868,  0.47460549,\n",
       "        0.06698449,  0.55116209,  0.5686984 ,  0.15588314,  0.20127518,\n",
       "        0.0770878 ,  0.19051001, -0.00377298,  0.17967676,  0.61602286,\n",
       "        0.18050297,  0.06028104,  0.0447116 ,  0.48287007,  0.13064786,\n",
       "        0.08387671,  0.45610213,  0.54228697,  0.17124485,  0.09976616,\n",
       "        0.03950023,  0.07028081,  0.12772953,  0.04874519,  0.13229562,\n",
       "        0.09175793,  0.1653832 ,  0.47297483,  0.04437078,  0.16108797,\n",
       "        0.14414371,  0.14902535,  0.02014774,  0.48426463,  0.13172362,\n",
       "        0.2337337 ,  0.11691   ,  0.18103216,  0.00130779,  0.25281818,\n",
       "        0.14612565,  0.14268127,  0.47671561,  0.38076578,  0.23721802,\n",
       "        0.0985881 ,  0.02074985,  0.09073304, -0.02353705,  0.16236641,\n",
       "       -0.03138165,  0.2565207 ,  0.12504588,  0.10968997,  0.18040282,\n",
       "        0.06744998,  0.2799815 ,  0.22113857,  0.16267796,  0.55597538,\n",
       "        0.19898383,  0.04579872,  0.02570684,  0.07916184,  0.05255163,\n",
       "        0.22816448,  0.43057083,  0.07512691,  0.03748228,  0.01880713,\n",
       "        0.54721403,  0.21529555,  0.12903987,  0.05446998,  0.11569352,\n",
       "        0.20795263,  0.22682342,  0.50110515,  0.21732695,  0.50137854,\n",
       "       -0.01600829,  0.46957981,  0.41332418,  0.2017602 ,  0.08226512,\n",
       "        0.11683646,  0.16550402,  0.1082546 ,  0.13626428,  0.08239053,\n",
       "        0.07260913,  0.01202092,  0.03641557,  0.09811134,  0.13316956,\n",
       "        0.56050484,  0.10541088,  0.17146834,  0.13462028,  0.12469681,\n",
       "        0.13956866,  0.06124501,  0.18245571,  0.46131889,  0.60450743,\n",
       "        0.55450085,  0.16795516,  0.02727505,  0.16407366,  0.14898202,\n",
       "        0.06111621,  0.53502378,  0.45241841,  0.38651557,  0.06349719,\n",
       "        0.09207573,  0.06604174,  0.56637323,  0.14984842,  0.07447133,\n",
       "        0.11736278,  0.14915453,  0.12001266,  0.54423909,  0.20548556,\n",
       "        0.14030485,  0.08597912,  0.09883229,  0.25042454,  0.10036146,\n",
       "        0.40712707,  0.56650365,  0.23678639,  0.14502383,  0.15821719,\n",
       "        0.17644215,  0.0423529 ,  0.18420881,  0.19605582,  0.54877436,\n",
       "        0.50657843,  0.19343802,  0.38914002,  0.01618966,  0.01030186,\n",
       "        0.06067801,  0.06482339,  0.05783428,  0.14406415,  0.14014174,\n",
       "        0.40123872,  0.02316775,  0.15574376,  0.09330499,  0.16907982,\n",
       "        0.21960806,  0.0603543 ,  0.16364783,  0.14208435,  0.50619874,\n",
       "        0.15588573,  0.1004351 ,  0.07899524, -0.01230504,  0.48757654,\n",
       "        0.10321602,  0.50321841,  0.17524198,  0.08246532,  0.0022336 ,\n",
       "        0.02087167,  0.4976116 ,  0.0649581 ,  0.19845904,  0.25182294,\n",
       "        0.40132856,  0.39821218,  0.09139659,  0.18197902,  0.44013825,\n",
       "        0.11044732,  0.14375918,  0.14947295,  0.03091685,  0.53419087,\n",
       "        0.48852993,  0.13659058,  0.08001097,  0.10293763,  0.16059531,\n",
       "        0.06053542,  0.05999413,  0.16999533,  0.12997991,  0.02167566,\n",
       "        0.0411866 ,  0.5853076 ,  0.57626919,  0.19889381,  0.16018383,\n",
       "        0.58987134,  0.52417146,  0.09322178,  0.40522036,  0.04790518,\n",
       "        0.23823008,  0.45553524,  0.07344824,  0.1356301 ,  0.11847613,\n",
       "        0.13415772,  0.13040895,  0.05356746,  0.06988678,  0.06020767,\n",
       "        0.08525029,  0.05719976,  0.07077613,  0.12603303,  0.00065633,\n",
       "        0.11607321,  0.0460198 ,  0.15928356,  0.01612079,  0.14595144,\n",
       "        0.04164691,  0.1644924 ,  0.18188899,  0.20536071,  0.57084948,\n",
       "        0.34689418,  0.13745529,  0.10007179,  0.12707503,  0.17492857,\n",
       "        0.44912095,  0.5917897 ,  0.22352118,  0.25422525,  0.22987977,\n",
       "        0.07559116,  0.59831759,  0.10786316])"
      ]
     },
     "execution_count": 31,
     "metadata": {},
     "output_type": "execute_result"
    }
   ],
   "source": [
    "# Predictions in the test set\n",
    "y_pred = model.predict(X_test)\n",
    "y_pred"
   ]
  },
  {
   "cell_type": "code",
   "execution_count": 32,
   "metadata": {},
   "outputs": [
    {
     "name": "stdout",
     "output_type": "stream",
     "text": [
      "MSE: 0.009150574110332004\n",
      "R2 Score: 0.8045531086669286\n"
     ]
    }
   ],
   "source": [
    "# Assess the quality of predictions\n",
    "from sklearn.metrics import mean_squared_error, r2_score\n",
    "\n",
    "print(f\"MSE: {mean_squared_error(y_test, y_pred)}\")\n",
    "print(f\"R2 Score: {r2_score(y_test, y_pred)}\")"
   ]
  },
  {
   "cell_type": "code",
   "execution_count": 33,
   "metadata": {},
   "outputs": [
    {
     "name": "stdout",
     "output_type": "stream",
     "text": [
      "RMSE: 0.09565863322425218\n"
     ]
    }
   ],
   "source": [
    "# Root Mean Squared Error\n",
    "import math\n",
    "rmse = math.sqrt(mean_squared_error(y_test, y_pred))\n",
    "print(f\"RMSE: {rmse}\")"
   ]
  },
  {
   "cell_type": "code",
   "execution_count": 34,
   "metadata": {},
   "outputs": [],
   "source": [
    "# Save model\n",
    "from pickle import dump\n",
    "\n",
    "dump(model, open(\"/workspaces/linear-regression-project-tutorial-pilarzarco/models/model_LR\", \"wb\"))"
   ]
  }
 ],
 "metadata": {
  "kernelspec": {
   "display_name": "Python 3",
   "language": "python",
   "name": "python3"
  },
  "language_info": {
   "codemirror_mode": {
    "name": "ipython",
    "version": 3
   },
   "file_extension": ".py",
   "mimetype": "text/x-python",
   "name": "python",
   "nbconvert_exporter": "python",
   "pygments_lexer": "ipython3",
   "version": "3.10.8"
  }
 },
 "nbformat": 4,
 "nbformat_minor": 2
}
